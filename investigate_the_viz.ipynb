{
 "cells": [
  {
   "cell_type": "markdown",
   "metadata": {},
   "source": [
    "similar from sklearn https://scikit-learn.org/stable/auto_examples/svm/plot_separating_hyperplane.html"
   ]
  },
  {
   "cell_type": "code",
   "execution_count": 1,
   "metadata": {
    "ExecuteTime": {
     "end_time": "2020-06-24T16:39:32.771042Z",
     "start_time": "2020-06-24T16:39:16.205034Z"
    }
   },
   "outputs": [],
   "source": [
    "from sklearn.datasets import make_blobs\n",
    "from sklearn.datasets import make_moons\n",
    "import matplotlib.pyplot as plt\n",
    "%matplotlib inline  \n",
    "import numpy as np"
   ]
  },
  {
   "cell_type": "code",
   "execution_count": 2,
   "metadata": {
    "ExecuteTime": {
     "end_time": "2020-06-24T16:39:33.465755Z",
     "start_time": "2020-06-24T16:39:32.773657Z"
    }
   },
   "outputs": [
    {
     "data": {
      "image/png": "[encoded data removed]",
      "text/plain": [
       "<Figure size 432x288 with 1 Axes>"
      ]
     },
     "metadata": {
      "needs_background": "light"
     },
     "output_type": "display_data"
    }
   ],
   "source": [
    "X_1, y_1 = make_blobs(n_features=2, centers=2, cluster_std=1.25, random_state=123)\n",
    "plt.scatter(X_1[:, 0], X_1[:, 1], c=y_1, s=25);"
   ]
  },
  {
   "cell_type": "code",
   "execution_count": 3,
   "metadata": {
    "ExecuteTime": {
     "end_time": "2020-06-24T16:39:34.720224Z",
     "start_time": "2020-06-24T16:39:33.468646Z"
    }
   },
   "outputs": [],
   "source": [
    "from sklearn.svm import SVC"
   ]
  },
  {
   "cell_type": "code",
   "execution_count": 4,
   "metadata": {
    "ExecuteTime": {
     "end_time": "2020-06-24T16:39:34.743199Z",
     "start_time": "2020-06-24T16:39:34.723042Z"
    }
   },
   "outputs": [],
   "source": [
    "clf = SVC(kernel='linear').fit(X_1, y_1)"
   ]
  },
  {
   "cell_type": "code",
   "execution_count": 5,
   "metadata": {
    "ExecuteTime": {
     "end_time": "2020-06-24T16:39:34.750745Z",
     "start_time": "2020-06-24T16:39:34.745767Z"
    }
   },
   "outputs": [
    {
     "name": "stdout",
     "output_type": "stream",
     "text": [
      "[[-0.4171222   0.14320341]]\n"
     ]
    }
   ],
   "source": [
    "print(clf.coef_)"
   ]
  },
  {
   "cell_type": "markdown",
   "metadata": {},
   "source": [
    "X_1 is an array of 2D coordinates with X[:, 0] the x and X[:, 1] the y"
   ]
  },
  {
   "cell_type": "code",
   "execution_count": 6,
   "metadata": {
    "ExecuteTime": {
     "end_time": "2020-06-24T16:39:34.757089Z",
     "start_time": "2020-06-24T16:39:34.753342Z"
    }
   },
   "outputs": [],
   "source": [
    "# separate the 2D array into 2x 1D arrays\n",
    "X_1_feature_1 = X_1[:, 0]\n",
    "X_1_feature_2 = X_1[:, 1]\n"
   ]
  },
  {
   "cell_type": "code",
   "execution_count": 7,
   "metadata": {
    "ExecuteTime": {
     "end_time": "2020-06-24T16:39:34.782170Z",
     "start_time": "2020-06-24T16:39:34.759258Z"
    }
   },
   "outputs": [],
   "source": [
    "# set the min and max of each feature so that a graph can be set up correctly\n",
    "X11_min, X11_max = min(X_1_feature_1) - 1, max(X_1_feature_1) + 1\n",
    "X12_min, X12_max = min(X_1_feature_2) - 1, max(X_1_feature_2) + 1"
   ]
  },
  {
   "cell_type": "code",
   "execution_count": 9,
   "metadata": {
    "ExecuteTime": {
     "end_time": "2020-06-24T16:43:14.088391Z",
     "start_time": "2020-06-24T16:43:14.084071Z"
    }
   },
   "outputs": [],
   "source": [
    "# define a set of coordinates between the min and max of each feature\n",
    "x11_coord = np.linspace(X11_min, X11_max, 10)\n",
    "x12_coord = np.linspace(X12_min, X12_max, 10)"
   ]
  },
  {
   "cell_type": "code",
   "execution_count": 10,
   "metadata": {
    "ExecuteTime": {
     "end_time": "2020-06-24T16:43:27.126101Z",
     "start_time": "2020-06-24T16:43:27.122563Z"
    }
   },
   "outputs": [],
   "source": [
    "# set up a mesh grid of the space for the features\n",
    "X12_C, X11_C = np.meshgrid(x12_coord, x11_coord)"
   ]
  },
  {
   "cell_type": "code",
   "execution_count": 17,
   "metadata": {
    "ExecuteTime": {
     "end_time": "2020-06-24T16:48:13.800542Z",
     "start_time": "2020-06-24T16:48:13.796751Z"
    }
   },
   "outputs": [],
   "source": [
    "# convert the mesh grid into a 2D array of coordinates\n",
    "x11x12 = np.c_[np.ravel(X11_C), np.ravel(X12_C)]"
   ]
  },
  {
   "cell_type": "code",
   "execution_count": 20,
   "metadata": {
    "ExecuteTime": {
     "end_time": "2020-06-24T16:52:03.965900Z",
     "start_time": "2020-06-24T16:52:03.962059Z"
    }
   },
   "outputs": [],
   "source": [
    "# will return the distance from each sample to each location on the grid\n",
    "decisions = clf.decision_function(x11x12)"
   ]
  },
  {
   "cell_type": "code",
   "execution_count": 21,
   "metadata": {
    "ExecuteTime": {
     "end_time": "2020-06-24T16:52:05.509056Z",
     "start_time": "2020-06-24T16:52:05.502446Z"
    }
   },
   "outputs": [
    {
     "data": {
      "text/plain": [
       "array([ 2.13377589,  2.34156734,  2.54935879,  2.75715025,  2.9649417 ,\n",
       "        3.17273315,  3.38052461,  3.58831606,  3.79610751,  4.00389897,\n",
       "        1.38538115,  1.5931726 ,  1.80096406,  2.00875551,  2.21654696,\n",
       "        2.42433842,  2.63212987,  2.83992132,  3.04771277,  3.25550423,\n",
       "        0.63698641,  0.84477787,  1.05256932,  1.26036077,  1.46815222,\n",
       "        1.67594368,  1.88373513,  2.09152658,  2.29931804,  2.50710949,\n",
       "       -0.11140833,  0.09638313,  0.30417458,  0.51196603,  0.71975749,\n",
       "        0.92754894,  1.13534039,  1.34313185,  1.5509233 ,  1.75871475,\n",
       "       -0.85980306, -0.65201161, -0.44422016, -0.2364287 , -0.02863725,\n",
       "        0.1791542 ,  0.38694565,  0.59473711,  0.80252856,  1.01032001,\n",
       "       -1.6081978 , -1.40040635, -1.1926149 , -0.98482344, -0.77703199,\n",
       "       -0.56924054, -0.36144908, -0.15365763,  0.05413382,  0.26192528,\n",
       "       -2.35659254, -2.14880109, -1.94100963, -1.73321818, -1.52542673,\n",
       "       -1.31763527, -1.10984382, -0.90205237, -0.69426091, -0.48646946,\n",
       "       -3.10498728, -2.89719582, -2.68940437, -2.48161292, -2.27382146,\n",
       "       -2.06603001, -1.85823856, -1.65044711, -1.44265565, -1.2348642 ,\n",
       "       -3.85338201, -3.64559056, -3.43779911, -3.23000766, -3.0222162 ,\n",
       "       -2.81442475, -2.6066333 , -2.39884184, -2.19105039, -1.98325894,\n",
       "       -4.60177675, -4.3939853 , -4.18619385, -3.97840239, -3.77061094,\n",
       "       -3.56281949, -3.35502803, -3.14723658, -2.93944513, -2.73165368])"
      ]
     },
     "execution_count": 21,
     "metadata": {},
     "output_type": "execute_result"
    }
   ],
   "source": [
    "decisions"
   ]
  },
  {
   "cell_type": "code",
   "execution_count": 26,
   "metadata": {
    "ExecuteTime": {
     "end_time": "2020-06-24T16:57:03.116054Z",
     "start_time": "2020-06-24T16:57:03.112648Z"
    }
   },
   "outputs": [],
   "source": [
    "# the decisions_function returned a 1D array, it must be reshaped to be used \n",
    "# with the axes.contour function when plotting\n",
    "\n",
    "df1 = np.reshape(decisions, X12_C.shape) # shape is (10, 10) in this case"
   ]
  },
  {
   "cell_type": "code",
   "execution_count": 32,
   "metadata": {
    "ExecuteTime": {
     "end_time": "2020-06-24T16:59:40.800560Z",
     "start_time": "2020-06-24T16:59:40.793698Z"
    }
   },
   "outputs": [
    {
     "data": {
      "text/plain": [
       "array([[ 2.13377589,  2.34156734,  2.54935879,  2.75715025,  2.9649417 ,\n",
       "         3.17273315,  3.38052461,  3.58831606,  3.79610751,  4.00389897],\n",
       "       [ 1.38538115,  1.5931726 ,  1.80096406,  2.00875551,  2.21654696,\n",
       "         2.42433842,  2.63212987,  2.83992132,  3.04771277,  3.25550423],\n",
       "       [ 0.63698641,  0.84477787,  1.05256932,  1.26036077,  1.46815222,\n",
       "         1.67594368,  1.88373513,  2.09152658,  2.29931804,  2.50710949],\n",
       "       [-0.11140833,  0.09638313,  0.30417458,  0.51196603,  0.71975749,\n",
       "         0.92754894,  1.13534039,  1.34313185,  1.5509233 ,  1.75871475],\n",
       "       [-0.85980306, -0.65201161, -0.44422016, -0.2364287 , -0.02863725,\n",
       "         0.1791542 ,  0.38694565,  0.59473711,  0.80252856,  1.01032001],\n",
       "       [-1.6081978 , -1.40040635, -1.1926149 , -0.98482344, -0.77703199,\n",
       "        -0.56924054, -0.36144908, -0.15365763,  0.05413382,  0.26192528],\n",
       "       [-2.35659254, -2.14880109, -1.94100963, -1.73321818, -1.52542673,\n",
       "        -1.31763527, -1.10984382, -0.90205237, -0.69426091, -0.48646946],\n",
       "       [-3.10498728, -2.89719582, -2.68940437, -2.48161292, -2.27382146,\n",
       "        -2.06603001, -1.85823856, -1.65044711, -1.44265565, -1.2348642 ],\n",
       "       [-3.85338201, -3.64559056, -3.43779911, -3.23000766, -3.0222162 ,\n",
       "        -2.81442475, -2.6066333 , -2.39884184, -2.19105039, -1.98325894],\n",
       "       [-4.60177675, -4.3939853 , -4.18619385, -3.97840239, -3.77061094,\n",
       "        -3.56281949, -3.35502803, -3.14723658, -2.93944513, -2.73165368]])"
      ]
     },
     "execution_count": 32,
     "metadata": {},
     "output_type": "execute_result"
    }
   ],
   "source": [
    "df1"
   ]
  },
  {
   "cell_type": "code",
   "execution_count": 31,
   "metadata": {
    "ExecuteTime": {
     "end_time": "2020-06-24T16:59:15.335145Z",
     "start_time": "2020-06-24T16:59:15.109668Z"
    }
   },
   "outputs": [
    {
     "data": {
      "image/png": "[encoded data removed]",
      "text/plain": [
       "<Figure size 432x288 with 1 Axes>"
      ]
     },
     "metadata": {
      "needs_background": "light"
     },
     "output_type": "display_data"
    }
   ],
   "source": [
    "plt.scatter(X_1_feature_1, X_1_feature_2, c=y_1)\n",
    "axes = plt.gca()\n",
    "axes.contour(X11_C, X12_C, df1, colors=['blue', 'black', 'blue'], \n",
    "             levels=[-1, 0, 1], linestyles=[':', '-', ':'])\n",
    "plt.show()"
   ]
  },
  {
   "cell_type": "code",
   "execution_count": 34,
   "metadata": {
    "ExecuteTime": {
     "end_time": "2020-06-24T17:08:41.545113Z",
     "start_time": "2020-06-24T17:08:41.538294Z"
    }
   },
   "outputs": [
    {
     "data": {
      "text/plain": [
       "array([[-8.77544968, -7.3244266 , -5.87340353, -4.42238045, -2.97135737,\n",
       "        -1.52033429, -0.06931121,  1.38171186,  2.83273494,  4.28375802],\n",
       "       [-8.77544968, -7.3244266 , -5.87340353, -4.42238045, -2.97135737,\n",
       "        -1.52033429, -0.06931121,  1.38171186,  2.83273494,  4.28375802],\n",
       "       [-8.77544968, -7.3244266 , -5.87340353, -4.42238045, -2.97135737,\n",
       "        -1.52033429, -0.06931121,  1.38171186,  2.83273494,  4.28375802],\n",
       "       [-8.77544968, -7.3244266 , -5.87340353, -4.42238045, -2.97135737,\n",
       "        -1.52033429, -0.06931121,  1.38171186,  2.83273494,  4.28375802],\n",
       "       [-8.77544968, -7.3244266 , -5.87340353, -4.42238045, -2.97135737,\n",
       "        -1.52033429, -0.06931121,  1.38171186,  2.83273494,  4.28375802],\n",
       "       [-8.77544968, -7.3244266 , -5.87340353, -4.42238045, -2.97135737,\n",
       "        -1.52033429, -0.06931121,  1.38171186,  2.83273494,  4.28375802],\n",
       "       [-8.77544968, -7.3244266 , -5.87340353, -4.42238045, -2.97135737,\n",
       "        -1.52033429, -0.06931121,  1.38171186,  2.83273494,  4.28375802],\n",
       "       [-8.77544968, -7.3244266 , -5.87340353, -4.42238045, -2.97135737,\n",
       "        -1.52033429, -0.06931121,  1.38171186,  2.83273494,  4.28375802],\n",
       "       [-8.77544968, -7.3244266 , -5.87340353, -4.42238045, -2.97135737,\n",
       "        -1.52033429, -0.06931121,  1.38171186,  2.83273494,  4.28375802],\n",
       "       [-8.77544968, -7.3244266 , -5.87340353, -4.42238045, -2.97135737,\n",
       "        -1.52033429, -0.06931121,  1.38171186,  2.83273494,  4.28375802]])"
      ]
     },
     "execution_count": 34,
     "metadata": {},
     "output_type": "execute_result"
    }
   ],
   "source": [
    "X12_C"
   ]
  },
  {
   "cell_type": "code",
   "execution_count": null,
   "metadata": {},
   "outputs": [],
   "source": []
  }
 ],
 "metadata": {
  "kernelspec": {
   "display_name": "learn-env",
   "language": "python",
   "name": "learn-env"
  },
  "language_info": {
   "codemirror_mode": {
    "name": "ipython",
    "version": 3
   },
   "file_extension": ".py",
   "mimetype": "text/x-python",
   "name": "python",
   "nbconvert_exporter": "python",
   "pygments_lexer": "ipython3",
   "version": "3.6.9"
  },
  "toc": {
   "base_numbering": 1,
   "nav_menu": {},
   "number_sections": true,
   "sideBar": true,
   "skip_h1_title": false,
   "title_cell": "Table of Contents",
   "title_sidebar": "Contents",
   "toc_cell": false,
   "toc_position": {},
   "toc_section_display": true,
   "toc_window_display": false
  },
  "varInspector": {
   "cols": {
    "lenName": 16,
    "lenType": 16,
    "lenVar": 40
   },
   "kernels_config": {
    "python": {
     "delete_cmd_postfix": "",
     "delete_cmd_prefix": "del ",
     "library": "var_list.py",
     "varRefreshCmd": "print(var_dic_list())"
    },
    "r": {
     "delete_cmd_postfix": ") ",
     "delete_cmd_prefix": "rm(",
     "library": "var_list.r",
     "varRefreshCmd": "cat(var_dic_list()) "
    }
   },
   "types_to_exclude": [
    "module",
    "function",
    "builtin_function_or_method",
    "instance",
    "_Feature"
   ],
   "window_display": false
  }
 },
 "nbformat": 4,
 "nbformat_minor": 2
}
